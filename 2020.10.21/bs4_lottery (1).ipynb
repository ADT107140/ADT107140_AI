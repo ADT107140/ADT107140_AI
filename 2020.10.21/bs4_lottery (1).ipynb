{
 "cells": [
  {
   "cell_type": "code",
   "execution_count": 1,
   "metadata": {},
   "outputs": [
    {
     "name": "stdout",
     "output_type": "stream",
     "text": [
      "開出順序：05   28   39   17   18   30   \n",
      "大小順序：05   17   18   28   30   39   \n",
      "第二區：13 \n",
      "<div class=\"contents_box02\">\n",
      "<div id=\"contents_logo_02\"></div><div class=\"contents_mine_tx02\"><span class=\"font_black15\">109/10/19 第109000084期 </span><span class=\"font_red14\"><a href=\"Result_all.aspx#01\">開獎結果</a></span></div><div class=\"contents_mine_tx04\">開出順序<br/>大小順序<br/>第二區</div><div class=\"ball_tx ball_green\">19 </div><div class=\"ball_tx ball_green\">07 </div><div class=\"ball_tx ball_green\">38 </div><div class=\"ball_tx ball_green\">05 </div><div class=\"ball_tx ball_green\">10 </div><div class=\"ball_tx ball_green\">30 </div><div class=\"ball_tx ball_green\">05 </div><div class=\"ball_tx ball_green\">07 </div><div class=\"ball_tx ball_green\">10 </div><div class=\"ball_tx ball_green\">19 </div><div class=\"ball_tx ball_green\">30 </div><div class=\"ball_tx ball_green\">38 </div><div class=\"ball_red\">07 </div>\n",
      "</div>\n"
     ]
    }
   ],
   "source": [
    "# Lottery number\n",
    "# 威力彩頭獎號碼擷取\n",
    "\n",
    "import requests\n",
    "from bs4 import BeautifulSoup\n",
    "\n",
    "url = 'http://www.taiwanlottery.com.tw/'\n",
    "html = requests.get(url)\n",
    "sp = BeautifulSoup(html.text, 'html.parser')\n",
    "#print(sp.prettify())\n",
    "data1 = sp.select(\"#rightdown\")\n",
    "#print(data1)\n",
    "\n",
    "data2 = data1[0].find_all('div', {'class':'contents_box02'})\n",
    "#print(data2)\n",
    "\n",
    "data3 = data2[2].find_all('div', {'class':'ball_tx ball_yellow'})\n",
    "#print(data3)\n",
    "\n",
    "# 威力彩號碼\n",
    "print(\"開出順序：\",end=\"\")\n",
    "for n in range(0,6):\n",
    "    print(data3[n].text,end=\"  \") \n",
    "\n",
    "print(\"\\n大小順序：\",end=\"\")    \n",
    "for n in range(6,len(data3)):\n",
    "    print(data3[n].text,end=\"  \")\n",
    "     \n",
    "## 第二區\n",
    "red = data2[2].find('div', {'class':'ball_red'})        \n",
    "print(\"\\n第二區：{}\".format(red.text)) "
   ]
  },
  {
   "cell_type": "code",
   "execution_count": null,
   "metadata": {},
   "outputs": [],
   "source": []
  }
 ],
 "metadata": {
  "kernelspec": {
   "display_name": "Python 3",
   "language": "python",
   "name": "python3"
  },
  "language_info": {
   "codemirror_mode": {
    "name": "ipython",
    "version": 3
   },
   "file_extension": ".py",
   "mimetype": "text/x-python",
   "name": "python",
   "nbconvert_exporter": "python",
   "pygments_lexer": "ipython3",
   "version": "3.8.3"
  }
 },
 "nbformat": 4,
 "nbformat_minor": 4
}
