{
 "cells": [
  {
   "cell_type": "code",
   "execution_count": 1,
   "metadata": {},
   "outputs": [
    {
     "name": "stdout",
     "output_type": "stream",
     "text": [
      "標題：今日头条- TouTiao.comwww.toutiao.com\n",
      "網址：/url?q=https://www.toutiao.com/&sa=U&ved=2ahUKEwjlv-r1l8XsAhV3yosBHVmGDFoQFjAAegQICxAB&usg=AOvVaw2aIGusPAX5KrYpEEev0Pi4\n",
      "標題：今日頭條- Google Play 應用程式play.google.com › store › apps › details\n",
      "網址：/url?q=https://play.google.com/store/apps/details%3Fid%3Dcom.ss.android.article.news%26hl%3Dzh_TW&sa=U&ved=2ahUKEwjlv-r1l8XsAhV3yosBHVmGDFoQFjABegQICRAB&usg=AOvVaw0oqHp80jJXEB2tHj_264sV\n",
      "標題：即時新聞| 頭條新聞- 專題報道| 頭條| 頭條日報hd.stheadline.com › news › realtime › 即時\n",
      "網址：/url?q=https://hd.stheadline.com/news/realtime/%25E5%258D%25B3%25E6%2599%2582/&sa=U&ved=2ahUKEwjlv-r1l8XsAhV3yosBHVmGDFoQFjACegQIDBAB&usg=AOvVaw03zt5m-kjX1T275BMRVI9U\n",
      "標題：今日頭條- 維基百科，自由的百科全書 - Wikipediazh.wikipedia.org › zh-tw › 今日头条\n",
      "網址：/url?q=https://zh.wikipedia.org/zh-tw/%25E4%25BB%258A%25E6%2597%25A5%25E5%25A4%25B4%25E6%259D%25A1&sa=U&ved=2ahUKEwjlv-r1l8XsAhV3yosBHVmGDFoQFjADegQICBAB&usg=AOvVaw3_2N7un5IFRKY7ZseN4yvs\n",
      "標題：ET頭條| ETtoday 東森新聞雲手機版| ETtoday MobileWebwww.ettoday.net › news › headline-list\n",
      "網址：/url?q=https://www.ettoday.net/news/headline-list.htm&sa=U&ved=2ahUKEwjlv-r1l8XsAhV3yosBHVmGDFoQFjAEegQIBxAB&usg=AOvVaw37arIw1wRnbsbTilY1-XSc\n",
      "標題：在App Store 上的「今日头条」 - Appleapps.apple.com › app › 今日头条\n",
      "網址：/url?q=https://apps.apple.com/tw/app/%25E4%25BB%258A%25E6%2597%25A5%25E5%25A4%25B4%25E6%259D%25A1/id529092160&sa=U&ved=2ahUKEwjlv-r1l8XsAhV3yosBHVmGDFoQFjAWegQIAxAB&usg=AOvVaw0NyDCf9u2LhgX1z9uS9DUy\n",
      "標題：頭條新聞| Anue鉅亨m.cnyes.com › news › cat › headline\n",
      "網址：/url?q=https://m.cnyes.com/news/cat/headline&sa=U&ved=2ahUKEwjlv-r1l8XsAhV3yosBHVmGDFoQFjAXegQIAhAB&usg=AOvVaw2Ig7GwplHe-oBQwAIlKXF_\n",
      "標題：中國四款新聞App被政府下架，今日頭條CEO致歉、承諾連抖音都要 ...www.bnext.com.tw › article › toutiao-be-discontinued\n",
      "網址：/url?q=https://www.bnext.com.tw/article/48759/toutiao-be-discontinued&sa=U&ved=2ahUKEwjlv-r1l8XsAhV3yosBHVmGDFoQFjAYegQIChAB&usg=AOvVaw0YRTnzGIEB_LfMQxfHPdEq\n",
      "標題：1021-午間頭條搶先看｜三立新聞網SETN.com - YouTubewww.youtube.com › watch\n",
      "網址：/url?q=https://www.youtube.com/watch%3Fv%3DdM6dtdjyYEQ&sa=U&ved=2ahUKEwjlv-r1l8XsAhV3yosBHVmGDFoQtwIwGXoECAUQAQ&usg=AOvVaw2xwP9tQuP_ls6MIYcm7UT3\n",
      "標題：\n",
      "網址：/url?q=https://www.youtube.com/watch%3Fv%3DdM6dtdjyYEQ&sa=U&ved=2ahUKEwjlv-r1l8XsAhV3yosBHVmGDFoQuAIwGXoECAUQAg&usg=AOvVaw0djgAD6vvSfVOZgAEK2x2n\n",
      "標題：新頭條-Thehubnews - Home | Facebookwww.facebook.com › ... › Brand › Website › News & Media Website\n",
      "網址：/url?q=https://www.facebook.com/Theubews.net/&sa=U&ved=2ahUKEwjlv-r1l8XsAhV3yosBHVmGDFoQFjAaegQIBhAB&usg=AOvVaw1Vjjgue3NVEhK0tSysnVe0\n"
     ]
    }
   ],
   "source": [
    "# Google搜尋\n",
    "import requests\n",
    "from bs4 import BeautifulSoup\n",
    "\n",
    "# Google 搜尋 URL\n",
    "google_url = 'https://www.google.com.tw/search'\n",
    "\n",
    "# 查詢參數\n",
    "my_params = {'q': '頭條'}\n",
    "\n",
    "# 下載 Google 搜尋結果\n",
    "r = requests.get(google_url, params = my_params)\n",
    "\n",
    "# 確認是否下載成功\n",
    "if r.status_code == requests.codes.ok:\n",
    "  # 以 BeautifulSoup 解析 HTML 原始碼\n",
    "  soup = BeautifulSoup(r.text, 'html.parser')\n",
    "\n",
    "  # 觀察 HTML 原始碼\n",
    "  #print(soup.prettify())\n",
    "\n",
    "  # 以 CSS 的選擇器來抓取 Google 的搜尋結果\n",
    "  items = soup.select('div.kCrYT > a[href^=\"/url?\"]')\n",
    " \n",
    "  for i in items:\n",
    "    # 標題\n",
    "    print(\"標題：\" + i.text)\n",
    "    # 網址\n",
    "    print(\"網址：\" + i.get('href'))"
   ]
  },
  {
   "cell_type": "code",
   "execution_count": null,
   "metadata": {},
   "outputs": [],
   "source": []
  }
 ],
 "metadata": {
  "kernelspec": {
   "display_name": "Python 3",
   "language": "python",
   "name": "python3"
  },
  "language_info": {
   "codemirror_mode": {
    "name": "ipython",
    "version": 3
   },
   "file_extension": ".py",
   "mimetype": "text/x-python",
   "name": "python",
   "nbconvert_exporter": "python",
   "pygments_lexer": "ipython3",
   "version": "3.8.3"
  }
 },
 "nbformat": 4,
 "nbformat_minor": 4
}
