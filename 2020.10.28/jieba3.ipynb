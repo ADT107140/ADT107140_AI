{
 "cells": [
  {
   "cell_type": "code",
   "execution_count": 1,
   "metadata": {},
   "outputs": [
    {
     "name": "stderr",
     "output_type": "stream",
     "text": [
      "Building prefix dict from C:\\Users\\user\\Desktop\\ADT107140_AI\\2020.10.28\\dictionary\\dict.txt.big ...\n",
      "Dumping model to file cache C:\\Users\\user\\AppData\\Local\\Temp\\jieba.u917f39b273a57cb2a977a38bdfef1a14.cache\n",
      "Loading model cost 1.185 seconds.\n",
      "Prefix dict has been built successfully.\n"
     ]
    },
    {
     "name": "stdout",
     "output_type": "stream",
     "text": [
      "預設模式:吳智鴻|來到|台中教育大學|數位系|就讀|碩士\n",
      "全文模式:吳|智|鴻|來到|台中|台中教育大學|教育|大學|數位|數位系|就讀|碩士\n",
      "搜尋引擎:吳智鴻|來到|台中|教育|大學|台中教育大學|數位|數位系|就讀|碩士\n"
     ]
    }
   ],
   "source": [
    "# Jieba3 增加自定義的詞\n",
    "#encoding=utf-8\n",
    "import jieba\n",
    "\n",
    "# 設定繁體中文詞庫\n",
    "jieba.set_dictionary('dictionary/dict.txt.big')  \n",
    "\n",
    "sentence = \"李岳展來到台中教育大學數位系就讀學士\"\n",
    "\n",
    "#jieba.add_word('數位系')\n",
    "#jieba.add_word('凱特琳')\n",
    "#jieba.del_word('自定义词')\n",
    "\n",
    "# 預設模式斷詞\n",
    "breakword = jieba.cut(sentence, cut_all=False)\n",
    "print(\"預設模式:\" + '|' . join(breakword))\n",
    "\n",
    "# 全文模式斷詞\n",
    "breakword = jieba.cut(sentence, cut_all=True)\n",
    "print(\"全文模式:\" + '|' . join(breakword))\n",
    "\n",
    "# 搜尋引擎模式斷詞\n",
    "breakword = jieba.cut_for_search(sentence)\n",
    "print(\"搜尋引擎:\" + '|' . join(breakword))"
   ]
  },
  {
   "cell_type": "code",
   "execution_count": null,
   "metadata": {},
   "outputs": [],
   "source": []
  }
 ],
 "metadata": {
  "kernelspec": {
   "display_name": "Python 3",
   "language": "python",
   "name": "python3"
  },
  "language_info": {
   "codemirror_mode": {
    "name": "ipython",
    "version": 3
   },
   "file_extension": ".py",
   "mimetype": "text/x-python",
   "name": "python",
   "nbconvert_exporter": "python",
   "pygments_lexer": "ipython3",
   "version": "3.8.3"
  }
 },
 "nbformat": 4,
 "nbformat_minor": 4
}
