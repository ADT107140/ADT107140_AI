{
 "cells": [
  {
   "cell_type": "code",
   "execution_count": 1,
   "metadata": {},
   "outputs": [
    {
     "name": "stderr",
     "output_type": "stream",
     "text": [
      "Building prefix dict from C:\\Users\\user\\Desktop\\ADT107140_AI\\2020.10.28\\dictionary\\dict.txt.big ...\n",
      "Loading model from cache C:\\Users\\user\\AppData\\Local\\Temp\\jieba.u917f39b273a57cb2a977a38bdfef1a14.cache\n",
      "Loading model cost 0.943 seconds.\n",
      "Prefix dict has been built successfully.\n"
     ]
    },
    {
     "name": "stdout",
     "output_type": "stream",
     "text": [
      "停用詞:\"|;|,|。|來到|\n",
      "去除停用:李岳展|，|國立臺中教育大學|數位系|就讀|學士\n",
      "預設模式:李岳展|，|來到|國立臺中教育大學|數位系|就讀|學士|。\n",
      "全文模式:李岳展|，|來到|國立|國立臺中教育大學|臺中|臺中教育大學|教育|大學|數位|數位系|就讀|學士|。\n",
      "搜尋引擎:李岳展|，|來到|國立|臺中|教育|大學|國立臺中教育大學|數位|數位系|就讀|學士|。\n"
     ]
    }
   ],
   "source": [
    "# Jieba5 增加停用字\n",
    "#encoding=utf-8\n",
    "import jieba\n",
    "\n",
    "# 設定繁體中文詞庫\n",
    "jieba.set_dictionary('dictionary/dict.txt.big')  \n",
    "\n",
    "# 增加自定義停用詞\n",
    "jieba.load_userdict('dictionary/user_dict.txt')\n",
    "\n",
    "# 打開停用字詞典\n",
    "with open('dictionary/stopword.txt', 'r', encoding='utf-8-sig') as file:\n",
    "    stops = file.read().split('\\n')  # 將停用詞儲存在stops串列中\n",
    "print(\"停用詞:\"+'|' . join(stops))\n",
    "    \n",
    "sentence = \"李岳展，來到國立臺中教育大學數位系就讀學士。\"\n",
    "\n",
    "#jieba.add_word('數位系')\n",
    "#jieba.add_word('凱特琳')\n",
    "#jieba.del_word('自定义词')\n",
    "\n",
    "# 預設模式斷詞\n",
    "breakword = jieba.cut(sentence, cut_all=False)\n",
    "final_words = []   #儲存最後的詞\n",
    "#拆解句子為字詞\n",
    "for word in breakword:     # 拆解句子為字詞\n",
    "    if word not in stops:  #不是停用詞\n",
    "        final_words.append(word)\n",
    "print(\"去除停用:\" + '|' . join(final_words))\n",
    "\n",
    "breakword = jieba.cut(sentence, cut_all=False)\n",
    "print(\"預設模式:\" + '|' . join(breakword))    \n",
    "\n",
    "# 全文模式斷詞\n",
    "breakword = jieba.cut(sentence, cut_all=True)\n",
    "print(\"全文模式:\" + '|' . join(breakword))\n",
    "\n",
    "# 搜尋引擎模式斷詞\n",
    "breakword = jieba.cut_for_search(sentence)\n",
    "print(\"搜尋引擎:\" + '|' . join(breakword))"
   ]
  }
 ],
 "metadata": {
  "kernelspec": {
   "display_name": "Python 3",
   "language": "python",
   "name": "python3"
  },
  "language_info": {
   "codemirror_mode": {
    "name": "ipython",
    "version": 3
   },
   "file_extension": ".py",
   "mimetype": "text/x-python",
   "name": "python",
   "nbconvert_exporter": "python",
   "pygments_lexer": "ipython3",
   "version": "3.8.3"
  }
 },
 "nbformat": 4,
 "nbformat_minor": 4
}
