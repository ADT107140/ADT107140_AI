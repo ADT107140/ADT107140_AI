{
 "cells": [
  {
   "cell_type": "code",
   "execution_count": 1,
   "metadata": {},
   "outputs": [
    {
     "name": "stdout",
     "output_type": "stream",
     "text": [
      "[新聞] 來自 6300 部電動車的追蹤報告：關於電\n",
      "Re: [新聞] LUXGEN UP5前途未卜，一切就待高層首肯\n",
      "[問題] 隔熱紙請教\n",
      "[心得] Altis 11.5 三年心得\n",
      "[討論] Audi A3 vs BMW118i (女生用\n",
      "[新聞] 電動車競爭加劇 瑞士信貸揭Tesla最大優勢\n",
      "[菜單]RAV4\n",
      "[問題] 新車乙式保險請益\n",
      "[新聞] 計程車舊換新 車齡7年以上補助最高35萬元\n",
      "[問題] 關於領牌車\n",
      "[新聞] 納智捷URX熱賣 甫上市就缺車\n",
      "Re: [新聞] 特斯拉Cybertruck很前衛 但福特1966年的\n",
      "[公告] Car板板規 2019/08/15 板規修正\n",
      "Re: [整理] 百萬左右熱門新車主被動安全配備(SRS/ESP/VSC..)整理\n",
      "[活動連署] saitou68201上任第二位版主\n",
      "[活動]照常舉行12/07南部車聚_文衡殿烤肉火鍋會\n"
     ]
    }
   ],
   "source": [
    "#ptt_title\n",
    "#抓取ptt電影版的網頁原始碼(HTML)\n",
    "\n",
    "import urllib.request as req\n",
    "url=\"https://www.ptt.cc/bbs/car/index.html\"\n",
    "# 建立一個request物件附加 Request Headers 的資訊\n",
    "request=req.Request(url,headers={\n",
    "    \"User-Agent\":\"Mozilla/5.0 (Windows NT 10.0; Win64; x64) AppleWebKit/537.36 (KHTML, like Gecko) Chrome/77.0.3865.90 Safari/537.36\"\n",
    "})\n",
    "with req.urlopen(request) as response:\n",
    "    data=response.read().decode(\"utf-8\")\n",
    "\n",
    "#解析原始碼,取得每篇文章的標題\n",
    "import bs4\n",
    "from bs4 import BeautifulSoup\n",
    "\n",
    "root=bs4.BeautifulSoup(data, \"html.parser\") # 讓 BeautifulSoup 協助我們解析 HTML 格式文件\n",
    "titles=root.find_all(\"div\", class_=\"title\") # 尋找 class=\"title\" 的 div 標籤\n",
    "for title in titles:\n",
    "    if title.a != None: # 如果標題包含a標籤(沒有被刪除).印出來\n",
    "        print(title.a.string)"
   ]
  },
  {
   "cell_type": "code",
   "execution_count": 2,
   "metadata": {},
   "outputs": [
    {
     "ename": "TypeError",
     "evalue": "select() missing 1 required positional argument: 'selector'",
     "output_type": "error",
     "traceback": [
      "\u001b[1;31m---------------------------------------------------------------------------\u001b[0m",
      "\u001b[1;31mTypeError\u001b[0m                                 Traceback (most recent call last)",
      "\u001b[1;32m<ipython-input-2-2aab10b525ca>\u001b[0m in \u001b[0;36m<module>\u001b[1;34m()\u001b[0m\n\u001b[1;32m----> 1\u001b[1;33m \u001b[0mcontainer\u001b[0m \u001b[1;33m=\u001b[0m \u001b[0mbs4\u001b[0m\u001b[1;33m.\u001b[0m\u001b[0mBeautifulSoup\u001b[0m\u001b[1;33m.\u001b[0m\u001b[0mselect\u001b[0m\u001b[1;33m(\u001b[0m\u001b[1;34m'.r-ent'\u001b[0m\u001b[1;33m)\u001b[0m\u001b[1;33m\u001b[0m\u001b[0m\n\u001b[0m\u001b[0;32m      2\u001b[0m \u001b[1;32mfor\u001b[0m \u001b[0meach_item\u001b[0m \u001b[1;32min\u001b[0m \u001b[0mcontainer\u001b[0m\u001b[1;33m:\u001b[0m\u001b[1;33m\u001b[0m\u001b[0m\n\u001b[0;32m      3\u001b[0m      \u001b[0mprint\u001b[0m \u001b[1;33m(\u001b[0m\u001b[1;34m\"日期：\"\u001b[0m\u001b[1;33m+\u001b[0m\u001b[0meach_item\u001b[0m\u001b[1;33m.\u001b[0m\u001b[0mselect\u001b[0m\u001b[1;33m(\u001b[0m\u001b[1;34m'div.date'\u001b[0m\u001b[1;33m)\u001b[0m\u001b[1;33m[\u001b[0m\u001b[1;36m0\u001b[0m\u001b[1;33m]\u001b[0m\u001b[1;33m.\u001b[0m\u001b[0mtext\u001b[0m\u001b[1;33m,\u001b[0m \u001b[1;34m\"作者：\"\u001b[0m\u001b[1;33m+\u001b[0m\u001b[0meach_item\u001b[0m\u001b[1;33m.\u001b[0m\u001b[0mselect\u001b[0m\u001b[1;33m(\u001b[0m\u001b[1;34m'div.author'\u001b[0m\u001b[1;33m)\u001b[0m\u001b[1;33m[\u001b[0m\u001b[1;36m0\u001b[0m\u001b[1;33m]\u001b[0m\u001b[1;33m.\u001b[0m\u001b[0mtext\u001b[0m\u001b[1;33m)\u001b[0m\u001b[1;33m\u001b[0m\u001b[0m\n\u001b[0;32m      4\u001b[0m      \u001b[0mprint\u001b[0m \u001b[1;33m(\u001b[0m\u001b[0meach_item\u001b[0m\u001b[1;33m.\u001b[0m\u001b[0mselect\u001b[0m\u001b[1;33m(\u001b[0m\u001b[1;34m'div.title'\u001b[0m\u001b[1;33m)\u001b[0m\u001b[1;33m[\u001b[0m\u001b[1;36m0\u001b[0m\u001b[1;33m]\u001b[0m\u001b[1;33m.\u001b[0m\u001b[0mtext\u001b[0m\u001b[1;33m)\u001b[0m\u001b[1;33m\u001b[0m\u001b[0m\n\u001b[0;32m      5\u001b[0m      \u001b[0mprint\u001b[0m \u001b[1;33m(\u001b[0m\u001b[1;34m\"---------------------------------\"\u001b[0m\u001b[1;33m)\u001b[0m\u001b[1;33m\u001b[0m\u001b[0m\n",
      "\u001b[1;31mTypeError\u001b[0m: select() missing 1 required positional argument: 'selector'"
     ]
    }
   ],
   "source": [
    "container = root.select('.r-ent')\n",
    "for each_item in container:\n",
    "     print (\"日期：\"+each_item.select('div.date')[0].text, \"作者：\"+each_item.select('div.author')[0].text)\n",
    "     print (each_item.select('div.title')[0].text)\n",
    "     print (\"---------------------------------\")"
   ]
  }
 ],
 "metadata": {
  "kernelspec": {
   "display_name": "Python 3",
   "language": "python",
   "name": "python3"
  },
  "language_info": {
   "codemirror_mode": {
    "name": "ipython",
    "version": 3
   },
   "file_extension": ".py",
   "mimetype": "text/x-python",
   "name": "python",
   "nbconvert_exporter": "python",
   "pygments_lexer": "ipython3",
   "version": "3.5.6"
  }
 },
 "nbformat": 4,
 "nbformat_minor": 2
}
