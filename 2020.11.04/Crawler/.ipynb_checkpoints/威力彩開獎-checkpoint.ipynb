{
 "cells": [
  {
   "cell_type": "code",
   "execution_count": 1,
   "metadata": {},
   "outputs": [
    {
     "name": "stdout",
     "output_type": "stream",
     "text": [
      "[<div id=\"rightdown\">\n",
      "<!--***************BINGO BINGO**************-->\n",
      "<div class=\"contents_box01\">\n",
      "<div id=\"contents_logo_01\"> </div><div class=\"contents_mine_tx01\"><span class=\"font_black15\">108/10/16 第108058525期 </span> <span class=\"font_red14\"><a href=\"/Lotto/BingoBingo/history.aspx\">開獎結果</a> ｜ <a href=\"/Lotto/BingoBingo/drawing.aspx\">各期獎號查詢</a><a href=\"/lotto/BingoBingo/OEHLStatistic.htm\"><div id=\"contents_logo_01-2\"></div></a></span></div><div class=\"contents_mine_tx04\">開出獎號</div><div class=\"ball_box01\"><div class=\"ball_tx ball_yellow\">02 </div><div class=\"ball_tx ball_yellow\">04 </div><div class=\"ball_tx ball_yellow\">10 </div><div class=\"ball_tx ball_yellow\">13 </div><div class=\"ball_tx ball_yellow\">15 </div><div class=\"ball_tx ball_yellow\">20 </div><div class=\"ball_tx ball_yellow\">25 </div><div class=\"ball_tx ball_yellow\">34 </div><div class=\"ball_tx ball_yellow\">36 </div><div class=\"ball_tx ball_yellow\">42 </div><div class=\"ball_tx ball_yellow\">47 </div><div class=\"ball_tx ball_yellow\">55 </div><div class=\"ball_tx ball_yellow\">58 </div><div class=\"ball_tx ball_yellow\">67 </div><div class=\"ball_tx ball_yellow\">69 </div><div class=\"ball_tx ball_yellow\">70 </div><div class=\"ball_tx ball_yellow\">71 </div><div class=\"ball_tx ball_yellow\">72 </div><div class=\"ball_tx ball_yellow\">78 </div><div class=\"ball_tx ball_yellow\">79 </div></div><div class=\"contents_mine_tx08\">  超級<br/>  獎號<br/><div class=\"ball_red\">58</div></div><div class=\"contents_mine_tx08\">   猜<br/> 大 小<br/><div class=\"ball_blue_BB1\">－</div></div><div class=\"contents_mine_tx08\">   猜<br/> 單 雙<br/><div class=\"ball_blue_BB2\">小雙</div></div>\n",
      "</div>\n",
      "<div class=\"dotted01\"></div>\n",
      "<!--***************雙贏彩區塊***************-->\n",
      "<div class=\"contents_box06\">\n",
      "<div id=\"contents_logo_11\"></div><div class=\"contents_mine_tx09\"><span class=\"font_black15\">108/10/15 第108000247期 </span><span class=\"font_red14\"><a href=\"Result_all.aspx#12\">開獎結果</a></span></div><div class=\"contents_mine_tx04\">開出順序<br/>大小順序</div><div class=\"ball_tx ball_blue\">10 </div><div class=\"ball_tx ball_blue\">18 </div><div class=\"ball_tx ball_blue\">08 </div><div class=\"ball_tx ball_blue\">09 </div><div class=\"ball_tx ball_blue\">03 </div><div class=\"ball_tx ball_blue\">04 </div><div class=\"ball_tx ball_blue\">12 </div><div class=\"ball_tx ball_blue\">02 </div><div class=\"ball_tx ball_blue\">13 </div><div class=\"ball_tx ball_blue\">22 </div><div class=\"ball_tx ball_blue\">14 </div><div class=\"ball_tx ball_blue\">19 </div><div class=\"ball_tx ball_blue\">02 </div><div class=\"ball_tx ball_blue\">03 </div><div class=\"ball_tx ball_blue\">04 </div><div class=\"ball_tx ball_blue\">08 </div><div class=\"ball_tx ball_blue\">09 </div><div class=\"ball_tx ball_blue\">10 </div><div class=\"ball_tx ball_blue\">12 </div><div class=\"ball_tx ball_blue\">13 </div><div class=\"ball_tx ball_blue\">14 </div><div class=\"ball_tx ball_blue\">18 </div><div class=\"ball_tx ball_blue\">19 </div><div class=\"ball_tx ball_blue\">22 </div>\n",
      "</div>\n",
      "<div class=\"dotted01\"></div>\n",
      "<!--***************威力彩區塊***************-->\n",
      "<div class=\"contents_box02\">\n",
      "<div id=\"contents_logo_02\"></div><div class=\"contents_mine_tx02\"><span class=\"font_black15\">108/10/14 第108000082期 </span><span class=\"font_red14\"><a href=\"Result_all.aspx#01\">開獎結果</a></span></div><div class=\"contents_mine_tx04\">開出順序<br/>大小順序<br/>第二區</div><div class=\"ball_tx ball_green\">16 </div><div class=\"ball_tx ball_green\">13 </div><div class=\"ball_tx ball_green\">33 </div><div class=\"ball_tx ball_green\">15 </div><div class=\"ball_tx ball_green\">14 </div><div class=\"ball_tx ball_green\">31 </div><div class=\"ball_tx ball_green\">13 </div><div class=\"ball_tx ball_green\">14 </div><div class=\"ball_tx ball_green\">15 </div><div class=\"ball_tx ball_green\">16 </div><div class=\"ball_tx ball_green\">31 </div><div class=\"ball_tx ball_green\">33 </div><div class=\"ball_red\">04 </div>\n",
      "</div>\n",
      "<div class=\"dotted02\"></div>\n",
      "<!--***************38樂合彩區塊***************-->\n",
      "<div class=\"contents_box02\">\n",
      "<div id=\"contents_logo_03\"></div><div class=\"contents_mine_tx02\"><span class=\"font_black15\">108/10/14 第108000082期 </span><span class=\"font_red14\"><a href=\"Result_all.aspx#07\">開獎結果</a></span></div><div class=\"contents_mine_tx04\">開出順序<br/>大小順序</div><div class=\"ball_tx ball_green\">16 </div><div class=\"ball_tx ball_green\">13 </div><div class=\"ball_tx ball_green\">33 </div><div class=\"ball_tx ball_green\">15 </div><div class=\"ball_tx ball_green\">14 </div><div class=\"ball_tx ball_green\">31 </div><div class=\"ball_tx ball_green\">13 </div><div class=\"ball_tx ball_green\">14 </div><div class=\"ball_tx ball_green\">15 </div><div class=\"ball_tx ball_green\">16 </div><div class=\"ball_tx ball_green\">31 </div><div class=\"ball_tx ball_green\">33 </div>\n",
      "</div>\n",
      "<div class=\"dotted01\"></div>\n",
      "<!--***************大樂透區塊***************-->\n",
      "<div class=\"contents_box02\">\n",
      "<div id=\"contents_logo_04\"></div><div class=\"contents_mine_tx02\"><span class=\"font_black15\">108/10/15 第108000090期 </span><span class=\"font_red14\"><a href=\"Result_all.aspx#02\">開獎結果</a></span></div><div class=\"contents_mine_tx04\">開出順序<br/>大小順序<br/>特別號</div><div class=\"ball_tx ball_yellow\">13 </div><div class=\"ball_tx ball_yellow\">21 </div><div class=\"ball_tx ball_yellow\">38 </div><div class=\"ball_tx ball_yellow\">28 </div><div class=\"ball_tx ball_yellow\">37 </div><div class=\"ball_tx ball_yellow\">35 </div><div class=\"ball_tx ball_yellow\">13 </div><div class=\"ball_tx ball_yellow\">21 </div><div class=\"ball_tx ball_yellow\">28 </div><div class=\"ball_tx ball_yellow\">35 </div><div class=\"ball_tx ball_yellow\">37 </div><div class=\"ball_tx ball_yellow\">38 </div><div class=\"ball_red\">33 </div>\n",
      "</div>\n",
      "<div class=\"dotted02\"></div>\n",
      "<!--***************49樂合彩區塊***************-->\n",
      "<div class=\"contents_box02\">\n",
      "<div id=\"contents_logo_05\"></div><div class=\"contents_mine_tx02\"><span class=\"font_black15\">108/10/15 第108000090期 </span><span class=\"font_red14\"><a href=\"Result_all.aspx#08\">開獎結果</a></span></div><div class=\"contents_mine_tx04\">開出順序<br/>大小順序</div><div class=\"ball_tx ball_yellow\">13 </div><div class=\"ball_tx ball_yellow\">21 </div><div class=\"ball_tx ball_yellow\">38 </div><div class=\"ball_tx ball_yellow\">28 </div><div class=\"ball_tx ball_yellow\">37 </div><div class=\"ball_tx ball_yellow\">35 </div><div class=\"ball_tx ball_yellow\">13 </div><div class=\"ball_tx ball_yellow\">21 </div><div class=\"ball_tx ball_yellow\">28 </div><div class=\"ball_tx ball_yellow\">35 </div><div class=\"ball_tx ball_yellow\">37 </div><div class=\"ball_tx ball_yellow\">38 </div>\n",
      "</div>\n",
      "<div class=\"dotted01\"></div>\n",
      "<!--***************大福彩區塊***************-->\n",
      "<!--div class=\"contents_box05\">\r\n",
      "      \r\n",
      "    </div-->\n",
      "<!--div class=\"dotted01\"></div-->\n",
      "<!--**************今彩539區塊**************-->\n",
      "<div class=\"contents_box03\">\n",
      "<div id=\"contents_logo_06\"></div><div class=\"contents_mine_tx02\"><span class=\"font_black15\">108/10/15 第108000247期 </span><span class=\"font_red14\"><a href=\"Result_all.aspx#03\">開獎結果</a></span></div><div class=\"contents_mine_tx04\">開出順序<br/>大小順序</div><div class=\"ball_tx ball_lemon\">23 </div><div class=\"ball_tx ball_lemon\">19 </div><div class=\"ball_tx ball_lemon\">26 </div><div class=\"ball_tx ball_lemon\">06 </div><div class=\"ball_tx ball_lemon\">25 </div><div class=\"ball_tx\"></div><div class=\"ball_tx ball_lemon\">06 </div><div class=\"ball_tx ball_lemon\">19 </div><div class=\"ball_tx ball_lemon\">23 </div><div class=\"ball_tx ball_lemon\">25 </div><div class=\"ball_tx ball_lemon\">26 </div>\n",
      "</div>\n",
      "<div class=\"dotted03\"></div>\n",
      "<!--**************39樂合彩區塊**************-->\n",
      "<div class=\"contents_box03\">\n",
      "<div id=\"contents_logo_07\"></div><div class=\"contents_mine_tx02\"><span class=\"font_black15\">108/10/15 第108000247期 </span><span class=\"font_red14\"><a href=\"Result_all.aspx#09\">開獎結果</a></span></div><div class=\"contents_mine_tx04\">開出順序<br/>大小順序</div><div class=\"ball_tx ball_lemon\">23 </div><div class=\"ball_tx ball_lemon\">19 </div><div class=\"ball_tx ball_lemon\">26 </div><div class=\"ball_tx ball_lemon\">06 </div><div class=\"ball_tx ball_lemon\">25 </div><div class=\"ball_tx\"></div><div class=\"ball_tx ball_lemon\">06 </div><div class=\"ball_tx ball_lemon\">19 </div><div class=\"ball_tx ball_lemon\">23 </div><div class=\"ball_tx ball_lemon\">25 </div><div class=\"ball_tx ball_lemon\">26 </div>\n",
      "</div>\n",
      "<div class=\"dotted01\"></div>\n",
      "<!--**************3星彩區塊**************-->\n",
      "<div class=\"contents_box04\">\n",
      "<div id=\"contents_logo_08\"></div><div class=\"contents_mine_tx02\"><span class=\"font_black15\">108/10/15 第108000247期 </span><span class=\"font_red14\"><a href=\"Result_all.aspx#05\">開獎結果</a></span></div><div class=\"contents_mine_tx04\">中獎號碼</div><div class=\"ball_tx ball_purple\">8</div><div class=\"ball_tx ball_purple\">2</div><div class=\"ball_tx ball_purple\">6</div>\n",
      "</div>\n",
      "<div class=\"dotted04\"></div>\n",
      "<!--**************4星彩區塊**************-->\n",
      "<div class=\"contents_box04\">\n",
      "<div id=\"contents_logo_09\"></div><div class=\"contents_mine_tx02\"><span class=\"font_black15\">108/10/15 第108000247期 </span><span class=\"font_red14\"><a href=\"Result_all.aspx#06\">開獎結果</a></span></div><div class=\"contents_mine_tx04\">中獎號碼</div><div class=\"ball_tx ball_purple\">2</div><div class=\"ball_tx ball_purple\">3</div><div class=\"ball_tx ball_purple\">6</div><div class=\"ball_tx ball_purple\">6</div>\n",
      "</div>\n",
      "</div>]\n"
     ]
    }
   ],
   "source": [
    "import requests\n",
    "from bs4 import BeautifulSoup\n",
    "\n",
    "url = 'http://www.taiwanlottery.com.tw/'\n",
    "html = requests.get(url)\n",
    "sp = BeautifulSoup(html.text, 'html.parser')\n",
    "#print(sp.prettify())\n",
    "data1 = sp.select(\"#rightdown\")\n",
    "print(data1)\n",
    "\n",
    "data2 = data1[0].find('div', {'class':'contents_box02'})\n",
    "#print(data2)\n",
    "\n",
    "data3 = data2.find_all('div', {'class':'ball_tx ball_green'})\n",
    "#print(data3)\n"
   ]
  },
  {
   "cell_type": "code",
   "execution_count": 2,
   "metadata": {},
   "outputs": [
    {
     "name": "stdout",
     "output_type": "stream",
     "text": [
      "開出順序：16   13   33   15   14   31   \n",
      "大小順序：13   14   15   16   31   33   \n",
      "第二區：04 \n"
     ]
    }
   ],
   "source": [
    "# 威力彩號碼\n",
    "print(\"開出順序：\",end=\"\")\n",
    "for n in range(0,6):\n",
    "    print(data3[n].text,end=\"  \") \n",
    "\n",
    "print(\"\\n大小順序：\",end=\"\")    \n",
    "for n in range(6,len(data3)):\n",
    "    print(data3[n].text,end=\"  \")\n",
    "     \n",
    "## 第二區\n",
    "red = data2.find('div', {'class':'ball_red'})        \n",
    "print(\"\\n第二區：{}\".format(red.text)) "
   ]
  },
  {
   "cell_type": "code",
   "execution_count": null,
   "metadata": {},
   "outputs": [],
   "source": []
  }
 ],
 "metadata": {
  "kernelspec": {
   "display_name": "Python 3",
   "language": "python",
   "name": "python3"
  },
  "language_info": {
   "codemirror_mode": {
    "name": "ipython",
    "version": 3
   },
   "file_extension": ".py",
   "mimetype": "text/x-python",
   "name": "python",
   "nbconvert_exporter": "python",
   "pygments_lexer": "ipython3",
   "version": "3.5.6"
  }
 },
 "nbformat": 4,
 "nbformat_minor": 2
}
